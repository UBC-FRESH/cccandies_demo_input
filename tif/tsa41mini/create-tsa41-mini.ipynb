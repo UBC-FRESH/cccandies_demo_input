{
 "cells": [
  {
   "cell_type": "code",
   "execution_count": null,
   "id": "2226ef9e",
   "metadata": {},
   "outputs": [],
   "source": []
  },
  {
   "cell_type": "code",
   "execution_count": 1,
   "id": "ea9f65b4",
   "metadata": {},
   "outputs": [
    {
     "name": "stdout",
     "output_type": "stream",
     "text": [
      "(3, 10, 10)\n"
     ]
    }
   ],
   "source": [
    "import rasterio\n",
    "import numpy as np\n",
    "\n",
    "# Path to your GeoTIFF\n",
    "tif_path = \"../tsa41/inventory_init.tif\"\n",
    "N = 10  # size of the square you want to extract\n",
    "\n",
    "with rasterio.open(tif_path) as src:\n",
    "    # Get image dimensions\n",
    "    height, width = src.height, src.width\n",
    "    bands = src.count\n",
    "\n",
    "    # Compute the center of the image\n",
    "    center_x = width // 2\n",
    "    center_y = height // 2\n",
    "\n",
    "    # Calculate window bounds (ensure even size centered around center)\n",
    "    half_N = N // 2\n",
    "    row_start = max(center_y - half_N, 0)\n",
    "    row_end   = min(center_y + half_N, height)\n",
    "    col_start = max(center_x - half_N, 0)\n",
    "    col_end   = min(center_x + half_N, width)\n",
    "\n",
    "    # Define the window\n",
    "    window = rasterio.windows.Window(col_start, row_start, col_end - col_start, row_end - row_start)\n",
    "\n",
    "    # Read the window from all bands\n",
    "    data = src.read(window=window)  # shape: (bands, N, N)\n",
    "\n",
    "# `data` is now a 3D numpy array of shape (bands, N, N)\n",
    "print(data.shape)"
   ]
  },
  {
   "cell_type": "code",
   "execution_count": 3,
   "id": "0d175fbf",
   "metadata": {},
   "outputs": [
    {
     "name": "stdout",
     "output_type": "stream",
     "text": [
      "Saved cropped GeoTIFF to tsa41mini-100x100.tif\n"
     ]
    }
   ],
   "source": [
    "import rasterio\n",
    "from rasterio.windows import Window\n",
    "from rasterio.transform import Affine\n",
    "\n",
    "tif_path = \"../tsa41/inventory_init.tif\"\n",
    "out_path = \"tsa41mini-100x100.tif\"\n",
    "N = 100\n",
    "\n",
    "with rasterio.open(tif_path) as src:\n",
    "    height, width = src.height, src.width\n",
    "    bands = src.count\n",
    "    dtype = src.dtypes[0]\n",
    "\n",
    "    center_x = width // 2\n",
    "    center_y = height // 2\n",
    "    half_N = N // 2\n",
    "\n",
    "    row_start = max(center_y - half_N, 0)\n",
    "    row_end   = min(center_y + half_N, height)\n",
    "    col_start = max(center_x - half_N, 0)\n",
    "    col_end   = min(center_x + half_N, width)\n",
    "\n",
    "    # Define the window\n",
    "    window = Window(col_start, row_start, col_end - col_start, row_end - row_start)\n",
    "\n",
    "    # Read data from the window\n",
    "    data = src.read(window=window)\n",
    "\n",
    "    # Update the transform to reflect the window position\n",
    "    transform = src.window_transform(window)\n",
    "\n",
    "    # Prepare metadata for the new file\n",
    "    meta = src.meta.copy()\n",
    "    meta.update({\n",
    "        \"height\": data.shape[1],\n",
    "        \"width\": data.shape[2],\n",
    "        \"transform\": transform\n",
    "    })\n",
    "\n",
    "    # Write out the cropped image\n",
    "    with rasterio.open(out_path, \"w\", **meta) as dst:\n",
    "        dst.write(data)\n",
    "\n",
    "print(f\"Saved cropped GeoTIFF to {out_path}\")"
   ]
  },
  {
   "cell_type": "code",
   "execution_count": null,
   "id": "d064651b",
   "metadata": {},
   "outputs": [],
   "source": []
  }
 ],
 "metadata": {
  "kernelspec": {
   "display_name": ".venv",
   "language": "python",
   "name": "python3"
  },
  "language_info": {
   "codemirror_mode": {
    "name": "ipython",
    "version": 3
   },
   "file_extension": ".py",
   "mimetype": "text/x-python",
   "name": "python",
   "nbconvert_exporter": "python",
   "pygments_lexer": "ipython3",
   "version": "3.12.3"
  }
 },
 "nbformat": 4,
 "nbformat_minor": 5
}
